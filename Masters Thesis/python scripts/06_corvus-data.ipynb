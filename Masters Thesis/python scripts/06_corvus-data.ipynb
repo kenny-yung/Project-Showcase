{
 "cells": [
  {
   "attachments": {},
   "cell_type": "markdown",
   "metadata": {},
   "source": [
    "# Corvus dataset (DNF)\n",
    "time-series data requires mini-batching"
   ]
  },
  {
   "cell_type": "code",
   "execution_count": null,
   "metadata": {},
   "outputs": [],
   "source": [
    "import warnings\n",
    "from time import time\n",
    "from dateutil.relativedelta import relativedelta\n",
    "import pandas as pd\n",
    "import numpy as np\n",
    "import matplotlib.pyplot as plt\n",
    "import seaborn as sns\n",
    "\n",
    "from accure_io import S3Interface\n",
    "from accure_io.s3_battery_data_reader import DataNotFoundError, S3BatteryDataReader\n",
    "from accure_io._meta_data import MetaData\n",
    "from accure_io.s3 import list_bucket\n",
    "from accure_analytics.gaps.find_gaps import find_gaps\n",
    "from accure_analytics.cycle_counting.rainflow import calculate_rainflow"
   ]
  },
  {
   "cell_type": "code",
   "execution_count": null,
   "metadata": {},
   "outputs": [],
   "source": [
    "# %matplotlib qt\n",
    "\"\"\"General parameters applied as default parameters to the majority of the following functions\"\"\"\n",
    "# plt.rcParams[\"figure.figsize\"] = (16/2.54, 16/2.54)\n",
    "plt.rcParams[\"figure.figsize\"] = (8, 6)\n",
    "plt.rcParams[\"axes.grid\"] = True\n",
    "plt.rcParams[\"font.size\"] = 11\n",
    "from cycler import cycler\n",
    "colors = cycler(\n",
    "    \"color\",\n",
    "    [   \"#00549F\", # 100% blue\n",
    "        \"73BDFF\", # 40% blue\n",
    "        \"#000000\", # black\n",
    "        \"00549F\", # 100% red\n",
    "        \"B97E00\", # 100% yellow\n",
    "        \"#2C9CFF\", # 60% blue\n",
    "        \"#C8C8C8\", # 20% gray\n",
    "        \"F95265\", # 60% red\n",
    "        \"F6A800\", # 60% yellow\n",
    "        \"FDC5CC\", # 20% red\n",
    "        \"FFDE95\", # 20% yellow\n",
    "    ],\n",
    ")\n",
    "plt.rcParams[\"font.family\"] = \"Arial\"\n",
    "plt.rc(\"axes\", facecolor=\"w\", axisbelow=True, grid=True, prop_cycle=colors)\n",
    "# plt.rc(\"grid\", color=\"k\", linestyle=\"solid\", alpha =0.5)\n",
    "plt.rcParams['axes.spines.right'] = False\n",
    "plt.rcParams['axes.spines.top'] = False"
   ]
  },
  {
   "cell_type": "code",
   "execution_count": null,
   "metadata": {},
   "outputs": [],
   "source": [
    "warnings.filterwarnings(\"ignore\")\n",
    "import sys\n",
    "sys.setrecursionlimit(10000)\n",
    "pd.set_option('display.max_columns', None)\n",
    "\n",
    "level = \"pack\"\n",
    "customer = \"corvus\"\n",
    "dc = S3Interface.get_latest_data_context(customer=customer)\n",
    "s3i = S3Interface(dc)\n",
    "\n",
    "# battery_reader = S3BatteryDataReader(tenant=customer, data_version=\"latest\")\n",
    "s3_reader = S3BatteryDataReader(\n",
    "        tenant=customer,\n",
    "        data_version=\"latest\",\n",
    "        force_onboarding_v1=True,\n",
    "        environment=\"production\",\n",
    "        # time_filter=(\"2015-10-01\", \"2015-11-19\"),\n",
    "    )\n",
    "\n",
    "health_path = \"s3://accure-project-data/corvus/product=soh_ocv/data_version=1/group=results/\"\n",
    "ids = pd.read_parquet(f\"s3://accure-sandbox-data/kyung/{customer}/id-list/s3_id_list.parquet\")\n",
    "version = \"230103\"\n",
    "save_path = f\"s3://accure-sandbox-data/kyung/{customer}/id-list/aging_accure_ids_{version}.parquet\""
   ]
  },
  {
   "cell_type": "markdown",
   "metadata": {},
   "source": [
    "### find ids"
   ]
  },
  {
   "cell_type": "code",
   "execution_count": null,
   "metadata": {},
   "outputs": [],
   "source": [
    "from accure_io.s3 import list_bucket\n",
    "files = list_bucket(health_path,full_key=True)\n",
    "files"
   ]
  },
  {
   "cell_type": "code",
   "execution_count": null,
   "metadata": {},
   "outputs": [],
   "source": [
    "files.iloc[1:][\"filename\"].to_frame().to_parquet(f\"s3://accure-sandbox-data/kyung/{customer}/id-list/s3_id_list.parquet\")"
   ]
  },
  {
   "cell_type": "code",
   "execution_count": null,
   "metadata": {},
   "outputs": [],
   "source": [
    "for filename in files['filename'][1:]:\n",
    "    soh = pd.read_parquet(f'{health_path}{filename}')[\"soh_c_smoothed\"]\n",
    "    soh.plot()"
   ]
  },
  {
   "cell_type": "code",
   "execution_count": null,
   "metadata": {},
   "outputs": [],
   "source": [
    "ts_data[ts_data[\"voltage\"]<=0]"
   ]
  },
  {
   "cell_type": "code",
   "execution_count": null,
   "metadata": {},
   "outputs": [],
   "source": [
    "ids[\"filename\"]"
   ]
  },
  {
   "cell_type": "code",
   "execution_count": null,
   "metadata": {},
   "outputs": [],
   "source": [
    "s3_reader.read_sensor_data(level=level,accure_id='10416438974066452',drop_duplicates=True)"
   ]
  },
  {
   "cell_type": "code",
   "execution_count": null,
   "metadata": {},
   "outputs": [],
   "source": [
    "ts_data.loc[ts_data[\"voltage\"]>600,\"voltage\"].quantile(0.8)"
   ]
  },
  {
   "attachments": {},
   "cell_type": "markdown",
   "metadata": {},
   "source": [
    "## Data Preprocessing"
   ]
  },
  {
   "cell_type": "code",
   "execution_count": null,
   "metadata": {},
   "outputs": [],
   "source": [
    "data_path = f\"s3://accure-sandbox-data/kyung/{customer}/model-data/training-set/version={version}/\"\n",
    "period = 3\n",
    "window = 2\n",
    "volt_threshold = 1000\n",
    "for index,file in enumerate(ids[\"filename\"][3:]):\n",
    "    id = file[file.index('=')+1:file.index('.')]\n",
    "    print(id)\n",
    "    df = pd.DataFrame()\n",
    "    fcc = pd.read_parquet(f'{health_path}{file}')\n",
    "    time_start = fcc['time'].iloc[0]\n",
    "    time_end = fcc['time'].iloc[-1]\n",
    "    # ts_data = s3_reader.read_sensor_data(level=level,accure_id=id,drop_duplicates=True,time_filter=(time_start,time_end))\n",
    "    # ts_data = ts_data[~ts_data.index.duplicated()]\n",
    "    # invalid = ts_data[\"voltage\"].isna() | ts_data[\"voltage\"]<=0 | ts_data[\"current\"].isna()\n",
    "    # ts_data = ts_data[~invalid]\n",
    "    soh = fcc[\"soh_c_smoothed\"]\n",
    "    # try:\n",
    "    #     rainflow = pd.read_parquet(f\"s3://accure-sandbox-data/kyung/{customer}/rainflow/id={id}.parquet\")\n",
    "    # except FileNotFoundError:\n",
    "    # measurement_gaps = find_gaps(time_index=current.index)\n",
    "    # rainflow = calculate_rainflow(soc=soc,current=current,gaps=measurement_gaps, idle_current_threshold_a=0)\n",
    "    # rainflow.to_parquet(f\"s3://accure-sandbox-data/kyung/{customer}/rainflow/id={id}.parquet\")\n",
    "    dsoh = (soh.diff(periods=period).dropna()/period)\n",
    "    df[\"dsoh\"] = dsoh.tolist()\n",
    "    df[\"age\"] = dsoh.index\n",
    "    df[\"soh\"] = soh[period-1:-1].values\n",
    "    for i in dsoh.index:\n",
    "        # month range of FCC point\n",
    "        date = time_start + relativedelta(months=i-1-window)\n",
    "        start = f\"{date.year}-{date.month}-01\"\n",
    "        end_date = pd.to_datetime(f\"{date.year}-{date.month}-01\")+relativedelta(months=window)\n",
    "        end = f\"{end_date.year}-{end_date.month}-01\"\n",
    "        data = s3_reader.read_sensor_data(level=level,accure_id=id,drop_duplicates=True,time_filter=(start,end))\n",
    "        data = data[~data.index.duplicated()]\n",
    "        invalid = data[\"voltage\"].isna() | data[\"voltage\"]<=0 | data[\"current\"].isna()\n",
    "        data = data[~invalid]\n",
    "        # data = ts_data[(ts_data.index>=start) & (ts_data.index<end)]\n",
    "        # rf = rainflow[(rainflow[\"time_start\"]>=start)&(rainflow[\"time_end\"]<end)]\n",
    "        # df.loc[df[\"age\"]==i,\"month\"] = date.month\n",
    "        df.loc[df[\"age\"]==i,\"season\"] = np.cos((end_date.month-2)*(np.pi/6))\n",
    "        pow_chg = (data[data[\"current\"]>0][\"voltage\"]*data[data[\"current\"]>0][\"current\"]).mean()\n",
    "        pow_dsg = (data[data[\"current\"]<0][\"voltage\"]*data[data[\"current\"]<0][\"current\"]).mean()\n",
    "        # indicators\n",
    "        df.loc[df[\"age\"]==i,\"temp_mean\"] = data[\"temperature\"].mean()\n",
    "        df.loc[df[\"age\"]==i,\"temp_98q\"] = data[\"temperature\"].quantile(0.98)\n",
    "        df.loc[df[\"age\"]==i,\"temp_2q\"] = data[\"temperature\"].quantile(0.02)\n",
    "        df.loc[df[\"age\"]==i,\"temp_cell_min\"] = data[\"temperature_child_min\"].median()\n",
    "        df.loc[df[\"age\"]==i,\"temp_cell_max\"] = data[\"temperature_child_max\"].median()\n",
    "        df.loc[df[\"age\"]==i,\"temp_spread\"] = (data[\"temperature_child_max\"]-data[\"temperature_child_min\"]).mean()\n",
    "        df.loc[df[\"age\"]==i,\"volt_mean\"] = data[\"voltage\"].mean()\n",
    "        df.loc[df[\"age\"]==i,\"volt_98q\"] = data[\"voltage\"].quantile(0.98)\n",
    "        df.loc[df[\"age\"]==i,\"volt_2q\"] = data[\"voltage\"].quantile(0.02)\n",
    "        df.loc[df[\"age\"]==i,\"volt_over\"] = data[data[\"voltage\"]>volt_threshold][\"voltage\"].count()\n",
    "        df.loc[df[\"age\"]==i,\"cell_drift\"] = (data[\"voltage_cell_max\"]-data[\"voltage_cell_min\"]).mean()\n",
    "        df.loc[df[\"age\"]==i,\"curr_mean\"] = data[\"current\"].mean()\n",
    "        df.loc[df[\"age\"]==i,\"curr_mean_chg\"] = data[data[\"current\"]>0][\"current\"].mean()\n",
    "        df.loc[df[\"age\"]==i,\"curr_mean_dsc\"] = data[data[\"current\"]<0][\"current\"].mean()\n",
    "        df.loc[df[\"age\"]==i,\"curr_use_chg\"] = data[data[\"current\"]>0.5][\"current\"].mean()\n",
    "        df.loc[df[\"age\"]==i,\"curr_use_dsc\"] = data[data[\"current\"]<-0.5][\"current\"].mean()\n",
    "        df.loc[df[\"age\"]==i,\"curr_98q\"] = data[\"current\"].quantile(0.98)\n",
    "        df.loc[df[\"age\"]==i,\"curr_2q\"] = data[\"current\"].quantile(0.02)\n",
    "        df.loc[df[\"age\"]==i,\"power_charge_mean\"] = pow_chg\n",
    "        df.loc[df[\"age\"]==i,\"power_discharge_mean\"] = pow_dsg\n",
    "    df[\"accure_id\"] = id\n",
    "    df.to_parquet(f\"{data_path}id={id}.parquet\")\n",
    "    print(f\"{index+1} Processed and saved id: {id}\")\n",
    "df"
   ]
  },
  {
   "cell_type": "code",
   "execution_count": null,
   "metadata": {},
   "outputs": [],
   "source": []
  }
 ],
 "metadata": {
  "kernelspec": {
   "display_name": "Python 3.9.12 ('analytics_complete')",
   "language": "python",
   "name": "python3"
  },
  "language_info": {
   "codemirror_mode": {
    "name": "ipython",
    "version": 3
   },
   "file_extension": ".py",
   "mimetype": "text/x-python",
   "name": "python",
   "nbconvert_exporter": "python",
   "pygments_lexer": "ipython3",
   "version": "3.9.12"
  },
  "orig_nbformat": 4,
  "vscode": {
   "interpreter": {
    "hash": "eb4ce2ed95dd9a98ac3d29aa9c0af06fb8c0d144f0d8153cc9bd7707e3f0024d"
   }
  }
 },
 "nbformat": 4,
 "nbformat_minor": 2
}
