{
 "cells": [
  {
   "cell_type": "code",
   "execution_count": null,
   "metadata": {},
   "outputs": [],
   "source": [
    "import warnings\n",
    "from time import time\n",
    "import pandas as pd\n",
    "import numpy as np\n",
    "import matplotlib.pyplot as plt\n",
    "\n",
    "from accure_io import PostgresInterface, S3Interface, SnowflakeInterface\n",
    "from accure_io.s3_battery_data_reader import DataNotFoundError, S3BatteryDataReader\n",
    "from accure_io._meta_data import MetaData\n",
    "from accure_io.s3 import list_bucket"
   ]
  },
  {
   "cell_type": "code",
   "execution_count": null,
   "metadata": {},
   "outputs": [],
   "source": [
    "warnings.filterwarnings(\"ignore\")\n",
    "\n",
    "level = \"pack\"\n",
    "customer = \"senec\"\n",
    "pi = PostgresInterface()\n",
    "dc = S3Interface.get_latest_data_context(customer=customer)\n",
    "s3i = S3Interface(dc)\n",
    "\n",
    "battery_reader = S3BatteryDataReader(tenant=customer, data_version=\"latest\")\n",
    "sfi = SnowflakeInterface(customer=customer)\n",
    "\n",
    "# health_path = \"s3://accure-production-artifacts/senec/product=reivolution/data_version=2/run_context=submit-20220904/artifact_type=result/group=FCC_monthly/\"\"\n",
    "health_path = \"s3://accure-production-artifacts/senec/product=reivolution/data_version=2/run_context=submit-20221204/artifact_type=result/group=FCC_monthly/\"\n",
    "\n",
    "version = \"221205\"\n",
    "save_path = f\"s3://accure-sandbox-data/kyung/{customer}/id-list/aging_accure_ids_{version}.parquet\"\n"
   ]
  },
  {
   "cell_type": "markdown",
   "metadata": {},
   "source": [
    "### ref code"
   ]
  },
  {
   "cell_type": "code",
   "execution_count": null,
   "metadata": {},
   "outputs": [],
   "source": [
    "required_ids = 50\n",
    "DIO = 365.24 * 2 # filter days in operation\n",
    "\n",
    "\"\"\"\n",
    "find ids\n",
    "\"\"\"\n",
    "\n",
    "fcc_monthly = sfi.read_table(\n",
    "        database=\"staging_senec\", schema=\"reivolution_v2\", table_name=\"reivolution_fcc_monthly\"\n",
    ")\n",
    "fcc_monthly.columns = fcc_monthly.columns.str.lower()\n",
    "accure_ids = pi.get_ids(level=level, customer=customer)\n",
    "t0 = time()\n",
    "keep_ids = []\n",
    "operation_days = []\n",
    "\n",
    "for id_index, accure_id in enumerate(accure_ids, 1):\n",
    "        try:\n",
    "                meta = battery_reader.read_meta_data(level=level, accure_id=accure_id)\n",
    "        except DataNotFoundError:\n",
    "                continue\n",
    "\n",
    "        # check days in operation\n",
    "        days_in_operation = (meta.last_timestamp - meta.first_timestamp).days\n",
    "        if days_in_operation < DIO:\n",
    "                continue\n",
    "\n",
    "        # check availability of health data\n",
    "        id_fcc_df = fcc_monthly[fcc_monthly[\"accure_id\"] == accure_id]\n",
    "        if id_fcc_df.shape[0] < 36:\n",
    "                continue\n",
    "        nom_cap = meta.configurations.iloc[-1][\"customer_datasheet\"]['agg_capacity_design']\n",
    "        soh = id_fcc_df.sort_values(\"time\")['fcc_points']/nom_cap\n",
    "\n",
    "        # removes health profiles with unexplainably large soh\n",
    "        mask_strange_behaviour = (soh > 1.15).any()\n",
    "        # removes health profiles with unexplainably large jumps in soh\n",
    "        mask_strange_behaviour *= (soh.diff().abs() > 1.0).any()\n",
    "        # removes health profiles with repeated increases in soh\n",
    "        mask_strange_behaviour *= (soh.diff() > 0.05).sum() > 5\n",
    "        # removes health profiles to too many approximately zero changes in soh\n",
    "        mask_strange_behaviour *= (soh.diff().abs() < 0.01).sum() > 5\n",
    "        print('checked')\n",
    "        if mask_strange_behaviour:\n",
    "                continue\n",
    "\n",
    "        # store id\n",
    "        keep_ids.append(accure_id)\n",
    "        operation_days.append(days_in_operation)\n",
    "\n",
    "        if len(keep_ids) % 1 == 0:\n",
    "                t1 = time()\n",
    "                print(\n",
    "                f\" . {len(keep_ids)} ids found. {(t1-t0) / id_index:.2f} per id searched. {(t1-t0) / len(keep_ids):.2f} per id found\"\n",
    "                )\n",
    "\n",
    "        if len(keep_ids) == required_ids:\n",
    "                break\n",
    "\n",
    "df = pd.DataFrame({\"accure_id\": keep_ids, \"age\": operation_days})\n",
    "df.to_parquet(f\"s3://accure-sandbox-data/kyung/{customer}/aging_accure_ids_220926.parquet\")"
   ]
  },
  {
   "cell_type": "markdown",
   "metadata": {},
   "source": [
    "### find ids"
   ]
  },
  {
   "cell_type": "code",
   "execution_count": null,
   "metadata": {},
   "outputs": [],
   "source": [
    "files = list_bucket(health_path,full_key=True)\n",
    "files"
   ]
  },
  {
   "cell_type": "code",
   "execution_count": null,
   "metadata": {},
   "outputs": [],
   "source": [
    "files[\"filename\"].to_frame().to_parquet(f\"s3://accure-sandbox-data/kyung/{customer}/id-list/s3_id_list.parquet\")"
   ]
  },
  {
   "cell_type": "code",
   "execution_count": null,
   "metadata": {},
   "outputs": [],
   "source": [
    "files"
   ]
  },
  {
   "cell_type": "code",
   "execution_count": null,
   "metadata": {},
   "outputs": [],
   "source": [
    "required_ids = 200\n",
    "YIO = 3\n",
    "DIO = 365 * YIO # filter days in operation\n",
    "\n",
    "\"\"\"\n",
    "find ids\n",
    "\"\"\"\n",
    "\n",
    "# files = pd.read_parquet(f\"s3://accure-sandbox-data/kyung/{customer}/id-list/s3_id_list.parquet\")\n",
    "# files = list_bucket(health_path,full_key=True)\n",
    "list = files[\"filename\"][id_index:]\n",
    "\n",
    "t0 = time()\n",
    "# keep_ids = []\n",
    "# operation_days = []\n",
    "\n",
    "for id_index, filename in enumerate(list, 1):\n",
    "\n",
    "        accure_id = filename[filename.index('=')+1:filename.index('.')]\n",
    "\n",
    "        try:\n",
    "                meta = battery_reader.read_meta_data(level=level, accure_id=accure_id)\n",
    "        except DataNotFoundError:\n",
    "                # print(id_index,\"no meta\")\n",
    "                continue\n",
    "        \n",
    "        # check days in operation\n",
    "        days_in_operation = (meta.last_timestamp - meta.first_timestamp).days\n",
    "        if days_in_operation < DIO:\n",
    "                continue\n",
    "        \n",
    "        # check availability of health data\n",
    "        id_fcc_df = pd.read_parquet(f'{health_path}{filename}')\n",
    "        if id_fcc_df.shape[0] < YIO*12:\n",
    "                continue\n",
    "        nom_cap = meta.configurations.iloc[-1][\"customer_datasheet\"]['agg_capacity_design']\n",
    "        # soh = id_fcc_df.sort_values(\"time\")['fcc_points']/nom_cap\n",
    "        soh = id_fcc_df['FCC_POINTS']/nom_cap*100\n",
    "\n",
    "        # removes health profiles with unexplainably large soh\n",
    "        mask_strange_behaviour = ((soh > 115).any() or\n",
    "        # removes health profiles with unexplainably large jumps in soh\n",
    "        (soh.diff().abs() > 5).any() or\n",
    "        # removes health profiles with repeated increases in soh\n",
    "        ((soh.diff() > 0.1).sum() > 1*DIO/365) or\n",
    "        # removes health profiles to too many approximately zero changes in soh\n",
    "        (soh.diff().abs() < 0.05).sum() > 2*DIO/365)\n",
    "\n",
    "        if mask_strange_behaviour:\n",
    "                continue\n",
    "        \n",
    "        # check if timeseries data have gaps\n",
    "        # time_start = meta.first_timestamp\n",
    "        # time_end = meta.last_timestamp\n",
    "        # ts = s3i.get_timeseries_s3(level=level, accure_id=id, time_start=time_start, time_end=time_end)\n",
    "\n",
    "        # store id\n",
    "        keep_ids.append(accure_id)\n",
    "        operation_days.append(days_in_operation)\n",
    "\n",
    "        t1 = time()\n",
    "        print(f\" . {len(keep_ids)} ids found. {(t1-t0) / id_index:.2f} per id searched. {(t1-t0) / len(keep_ids):.2f} per id found\")\n",
    "\n",
    "        if len(keep_ids) == required_ids:\n",
    "                break\n",
    "\n",
    "df = pd.DataFrame({\"accure_id\": keep_ids, \"age\": operation_days})\n",
    "df.to_parquet(save_path)"
   ]
  },
  {
   "cell_type": "markdown",
   "metadata": {},
   "source": [
    "## Visual check"
   ]
  },
  {
   "cell_type": "code",
   "execution_count": null,
   "metadata": {},
   "outputs": [],
   "source": [
    "df = pd.read_parquet(save_path)\n",
    "# df = df.sort_values(by=\"age\",ascending=False)"
   ]
  },
  {
   "cell_type": "code",
   "execution_count": null,
   "metadata": {},
   "outputs": [],
   "source": [
    "%matplotlib qt\n",
    "# ids = pd.read_parquet(save_path)\n",
    "ids = df.sort_values(by=\"age\",ascending=False)[\"accure_id\"]\n",
    "group = 6\n",
    "end = len(ids)\n",
    "for i in np.arange(0,end,group):\n",
    "    plt.figure(figsize=(9,7))\n",
    "    for j in np.arange(i,i+group):\n",
    "        id = ids[j]\n",
    "        meta = battery_reader.read_meta_data(level=level, accure_id=id)\n",
    "        nom_cap = meta.configurations.iloc[-1][\"customer_datasheet\"]['agg_capacity_design']\n",
    "        fcc = pd.read_parquet(f'{health_path}FCC_accure_id={id}.parquet')\n",
    "        soh = fcc[\"FCC_POINTS\"].reset_index(drop=True)/nom_cap\n",
    "        soh.plot(xlabel='Time (Month)',ylabel='SOH',label=id)\n",
    "        if j+1 == end:\n",
    "            break\n",
    "    plt.legend()"
   ]
  },
  {
   "cell_type": "code",
   "execution_count": null,
   "metadata": {},
   "outputs": [],
   "source": [
    "id = ids[0]\n",
    "meta = battery_reader.read_meta_data(level=level, accure_id=id)\n",
    "meta"
   ]
  },
  {
   "cell_type": "code",
   "execution_count": null,
   "metadata": {},
   "outputs": [],
   "source": [
    "meta.configurations[\"customer_datasheet\"][0]"
   ]
  },
  {
   "cell_type": "code",
   "execution_count": null,
   "metadata": {},
   "outputs": [],
   "source": [
    "time_start = meta.first_timestamp\n",
    "time_end = meta.last_timestamp\n",
    "df = s3i.get_timeseries_s3(level=level, accure_id=id, time_start=time_start, time_end=time_end)\n",
    "df"
   ]
  },
  {
   "cell_type": "code",
   "execution_count": null,
   "metadata": {},
   "outputs": [],
   "source": [
    "id = ids['accure_id'][49]\n",
    "meta = battery_reader.read_meta_data(level=level, accure_id=id)\n",
    "fcc_df = pd.read_parquet(f'{health_path}/FCC_accure_id={id}.parquet')\n",
    "nom_cap = meta.configurations.iloc[-1][\"customer_datasheet\"]['agg_capacity_design']\n",
    "(fcc_df['FCC_POINTS']/nom_cap).plot(xlabel='Time (Month)',ylabel='SOH')\n",
    "(fcc_monthly[fcc_monthly[\"accure_id\"] == id].reset_index()['fcc_points']/nom_cap).plot(xlabel='Time (Month)',ylabel='SOH')"
   ]
  },
  {
   "cell_type": "code",
   "execution_count": null,
   "metadata": {},
   "outputs": [],
   "source": [
    "for id in ids['accure_id'][0:10]:\n",
    "    print(id)\n",
    "    meta = battery_reader.read_meta_data(level=level, accure_id=id)\n",
    "    fcc_df = pd.read_parquet(f'{health_path}/FCC_accure_id={id}.parquet')\n",
    "    nom_cap = meta.configurations.iloc[-1][\"customer_datasheet\"]['agg_capacity_design']\n",
    "    (fcc_df['FCC_POINTS']/nom_cap).plot(xlabel='Time (Month)',ylabel='SOH',label=id)"
   ]
  },
  {
   "cell_type": "code",
   "execution_count": null,
   "metadata": {},
   "outputs": [],
   "source": [
    "for id in ids['accure_id'][11:20]:\n",
    "    print(id)\n",
    "    meta = battery_reader.read_meta_data(level=level, accure_id=id)\n",
    "    fcc_df = pd.read_parquet(f'{health_path}/FCC_accure_id={id}.parquet')\n",
    "    nom_cap = meta.configurations.iloc[-1][\"customer_datasheet\"]['agg_capacity_design']\n",
    "    (fcc_df['FCC_POINTS']/nom_cap).plot(xlabel='Time (Month)',ylabel='SOH',label=id)"
   ]
  },
  {
   "cell_type": "code",
   "execution_count": null,
   "metadata": {},
   "outputs": [],
   "source": []
  }
 ],
 "metadata": {
  "kernelspec": {
   "display_name": "Python 3.9.12 ('analytics_complete')",
   "language": "python",
   "name": "python3"
  },
  "language_info": {
   "codemirror_mode": {
    "name": "ipython",
    "version": 3
   },
   "file_extension": ".py",
   "mimetype": "text/x-python",
   "name": "python",
   "nbconvert_exporter": "python",
   "pygments_lexer": "ipython3",
   "version": "3.9.12"
  },
  "orig_nbformat": 4,
  "vscode": {
   "interpreter": {
    "hash": "eb4ce2ed95dd9a98ac3d29aa9c0af06fb8c0d144f0d8153cc9bd7707e3f0024d"
   }
  }
 },
 "nbformat": 4,
 "nbformat_minor": 2
}
