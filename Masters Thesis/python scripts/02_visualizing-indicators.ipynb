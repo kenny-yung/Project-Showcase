{
 "cells": [
  {
   "cell_type": "code",
   "execution_count": null,
   "metadata": {},
   "outputs": [],
   "source": [
    "import warnings\n",
    "from time import time\n",
    "import pandas as pd\n",
    "import numpy as np\n",
    "import matplotlib.pyplot as plt\n",
    "import datetime\n",
    "from datetime import timedelta\n",
    "\n",
    "from accure_io import PostgresInterface, S3Interface, SnowflakeInterface\n",
    "from accure_io.s3_battery_data_reader import DataNotFoundError, S3BatteryDataReader\n",
    "from accure_io._meta_data import MetaData\n",
    "import accure_plot"
   ]
  },
  {
   "cell_type": "code",
   "execution_count": null,
   "metadata": {},
   "outputs": [],
   "source": [
    "warnings.filterwarnings(\"ignore\")\n",
    "plt.rcParams[\"figure.figsize\"] = (15,6)\n",
    "\n",
    "level = \"pack\"\n",
    "customer = \"senec\"\n",
    "pi = PostgresInterface()\n",
    "dc = S3Interface.get_latest_data_context(customer=customer)\n",
    "s3i = S3Interface(dc)\n",
    "\n",
    "battery_reader = S3BatteryDataReader(tenant=customer, data_version=\"latest\")\n",
    "sfi = SnowflakeInterface(customer=customer)\n",
    "\n",
    "health_path = \"s3://accure-production-artifacts/senec/product=reivolution/data_version=2/run_context=submit-20220904/artifact_type=result/group=FCC_monthly/\"\n",
    "required_ids = 500\n"
   ]
  },
  {
   "cell_type": "markdown",
   "metadata": {},
   "source": [
    "## Data pre-processiing"
   ]
  },
  {
   "cell_type": "code",
   "execution_count": null,
   "metadata": {},
   "outputs": [],
   "source": [
    "version = \"220928\"\n",
    "ids = pd.read_parquet(f\"s3://accure-sandbox-data/kyung/{customer}/aging_accure_ids_{version}.parquet\")"
   ]
  },
  {
   "cell_type": "code",
   "execution_count": null,
   "metadata": {},
   "outputs": [],
   "source": [
    "id = ids[\"accure_id\"][20]\n",
    "meta = battery_reader.read_meta_data(level=level, accure_id=id)\n",
    "time_start = meta.first_timestamp\n",
    "time_end = meta.last_timestamp\n",
    "ts_data = s3i.get_timeseries_s3(level=level, accure_id=id, time_start=time_start, time_end=time_end)\n",
    "ts_data = ts_data[~ts_data.index.duplicated()]\n",
    "invalid = ts_data[\"voltage\"].isna() | ts_data[\"voltage\"]==0 | ts_data[\"current\"].isna()\n",
    "ts_data = ts_data[~invalid]\n",
    "display(ts_data)\n",
    "nom_cap = meta.configurations.iloc[-1][\"customer_datasheet\"]['agg_capacity_design']\n",
    "fcc_df = pd.read_parquet(f'{health_path}FCC_accure_id={id}.parquet')\n",
    "soh = fcc_df['FCC_POINTS']/nom_cap\n",
    "temp = ts_data['temperature2']\n",
    "soc = ts_data['state_of_charge']\n",
    "volt = ts_data['voltage']\n",
    "curr = ts_data['current'] # positive = charge"
   ]
  },
  {
   "cell_type": "markdown",
   "metadata": {},
   "source": [
    "### Visual checks"
   ]
  },
  {
   "cell_type": "code",
   "execution_count": null,
   "metadata": {},
   "outputs": [],
   "source": [
    "# check first timestamps\n",
    "id = ids[\"accure_id\"][1]\n",
    "meta = battery_reader.read_meta_data(level=level, accure_id=id)\n",
    "time_start = meta.first_timestamp\n",
    "time_start"
   ]
  },
  {
   "cell_type": "code",
   "execution_count": null,
   "metadata": {},
   "outputs": [],
   "source": [
    "soh.plot()"
   ]
  },
  {
   "cell_type": "code",
   "execution_count": null,
   "metadata": {},
   "outputs": [],
   "source": [
    "ts_data[[\"voltage\",\"state_of_charge\"]].plot.hist(rwidth=0.7)"
   ]
  },
  {
   "cell_type": "code",
   "execution_count": null,
   "metadata": {},
   "outputs": [],
   "source": [
    "start = 0\n",
    "end = 500\n",
    "plt.subplot(3,1,1)\n",
    "volt[start:end].plot(ylabel='volt')\n",
    "plt.subplot(3,1,2)\n",
    "soc[start:end].plot(ylabel='soc')\n",
    "plt.subplot(3,1,3)\n",
    "curr[start:end].plot(ylabel='curr')\n"
   ]
  },
  {
   "cell_type": "code",
   "execution_count": null,
   "metadata": {},
   "outputs": [],
   "source": [
    "# verify no sudden jumps in voltage\n",
    "print(sorted(volt.diff().abs(),reverse=True)[0:20])"
   ]
  },
  {
   "cell_type": "code",
   "execution_count": null,
   "metadata": {},
   "outputs": [],
   "source": [
    "temp.plot(kind='hist',rwidth=0.7,edgecolor='black')"
   ]
  },
  {
   "cell_type": "markdown",
   "metadata": {},
   "source": [
    "## Rainflow algo"
   ]
  },
  {
   "cell_type": "code",
   "execution_count": null,
   "metadata": {},
   "outputs": [],
   "source": [
    "from accure_analytics.gaps.find_gaps import find_gaps\n",
    "from accure_analytics.cycle_counting.rainflow import calculate_rainflow\n",
    "\n",
    "# Import Datainterface\n",
    "from accure_io.s3_battery_data_reader import S3BatteryDataReader\n",
    "\n",
    "# Read the data\n",
    "timeseries = battery_reader.read_sensor_data(level=level, accure_id=id)\n",
    "timeseries"
   ]
  },
  {
   "cell_type": "code",
   "execution_count": null,
   "metadata": {},
   "outputs": [],
   "source": [
    "from operator import contains\n",
    "# timeseries = ts_data\n",
    "\n",
    "timeseries = timeseries.sort_values(\"time\")\n",
    "timeseries.index = timeseries.index.tz_localize(None)\n",
    "timeseries = timeseries[~timeseries.index.duplicated()]\n",
    "\n",
    "invalid = timeseries[\"voltage\"].isna() | timeseries[\"current\"].isna()\n",
    "timeseries = timeseries[~invalid]\n",
    "\n",
    "timesteps = timeseries.index.to_series()\n",
    "current = timeseries[\"current\"].squeeze()\n",
    "soc = timeseries[\"state_of_charge\"].dropna().squeeze()\n",
    "\n",
    "measurement_gaps = find_gaps(time_index=current.index)\n",
    "\n",
    "import sys\n",
    "sys.setrecursionlimit(10000)\n",
    "rainflow = calculate_rainflow(soc=soc,current=current,gaps=measurement_gaps, idle_current_threshold_a=0)"
   ]
  },
  {
   "cell_type": "code",
   "execution_count": null,
   "metadata": {},
   "outputs": [],
   "source": [
    "rainflow"
   ]
  },
  {
   "cell_type": "markdown",
   "metadata": {},
   "source": [
    "## Visualizing change in SOH (d/dt)"
   ]
  },
  {
   "cell_type": "code",
   "execution_count": null,
   "metadata": {},
   "outputs": [],
   "source": [
    "# forward diff\n",
    "fd = soh.diff(periods=1).dropna()\n",
    "# central diff\n",
    "cd = soh.diff(periods=2).dropna()/2\n",
    "\n",
    "plt.subplot(2,1,1)\n",
    "fd.plot(xlim=[0,len(fd)],ylabel='Forward Diff')\n",
    "plt.title('Rate of change in SOH')\n",
    "plt.subplot(2,1,2)\n",
    "cd.plot(xlim=[0,len(cd)],ylabel='Central Diff')\n"
   ]
  },
  {
   "cell_type": "code",
   "execution_count": null,
   "metadata": {},
   "outputs": [],
   "source": [
    "temperature = []\n",
    "voltage = []\n",
    "current = []\n",
    "for i in cd.index:\n",
    "    date = time_start + relativedelta(months=i-1)\n",
    "    start = f\"{date.year}-{date.month}-01\"\n",
    "    end = pd.to_datetime(f\"{date.year}-{date.month}-01\")+relativedelta(months=1)\n",
    "    end = f\"{end.year}-{end.month}-01\"\n",
    "    data = ts_data[(ts_data.index>=start) & (ts_data.index<end)]\n",
    "    temperature.append(data[\"temperature2\"].mean())\n",
    "    voltage.append(data[\"voltage\"].mean())\n",
    "    current.append(data[\"current\"].abs().max())\n",
    "\n",
    "dsoh = cd.reset_index()[\"FCC_POINTS\"]\n",
    "temperature = pd.Series(temperature)\n",
    "voltage = pd.Series(voltage)\n",
    "current = pd.Series(current)\n",
    "# min-max normalization\n",
    "dsoh = (dsoh-dsoh.min())/(dsoh.max()-dsoh.min())\n",
    "temperature = (temperature-temperature.min())/(temperature.max()-temperature.min())\n",
    "voltage = (voltage-voltage.min())/(voltage.max()-voltage.min())\n",
    "current = (current-current.min())/(current.max()-current.min())\n",
    "# mean normalization\n",
    "\n",
    "temperature.plot(label='mean_temp')\n",
    "voltage.plot(label='mean_volt')\n",
    "current.plot(label='max_curr')\n",
    "dsoh.plot(label='dSOH')\n",
    "plt.legend()\n",
    "plt.title('Normalized Comparison of indicators to change in health')\n"
   ]
  },
  {
   "cell_type": "code",
   "execution_count": null,
   "metadata": {},
   "outputs": [],
   "source": [
    "cd = soh.diff(periods=2).dropna()/2\n",
    "ind1 = []\n",
    "ind2 = []\n",
    "ind3 = []\n",
    "for i in cd.index:\n",
    "    # month range of FCC point\n",
    "    date = time_start + relativedelta(months=i-1)\n",
    "    start = f\"{date.year}-{date.month}-01\"\n",
    "    end = pd.to_datetime(f\"{date.year}-{date.month}-01\")+relativedelta(months=1)\n",
    "    end = f\"{end.year}-{end.month}-01\"\n",
    "    data = ts_data[(ts_data.index>=start) & (ts_data.index<end)]\n",
    "    rf = rainflow[(rainflow[\"time_start\"]>=start)&(rainflow[\"time_end\"]<end)]\n",
    "    # indicators\n",
    "    ind1.append(data[\"temperature2\"].max()-data[\"temperature2\"].min())\n",
    "    ind2.append((rf[\"dod\"]/rf[\"duration_h\"]).sum())\n",
    "    ind3.append(data[\"discharge_energy\"].max()-data[\"discharge_energy\"].min()+data[\"charge_energy\"].max()-data[\"charge_energy\"].min())\n",
    "\n",
    "dsoh = cd.reset_index()[\"FCC_POINTS\"]\n",
    "ind1 = pd.Series(ind1)\n",
    "ind2 = pd.Series(ind2)\n",
    "ind3 = pd.Series(ind3)\n",
    "# min-max normalization\n",
    "dsoh = (dsoh-dsoh.min())/(dsoh.max()-dsoh.min())\n",
    "ind1 = (ind1-ind1.min())/(ind1.max()-ind1.min())\n",
    "ind2 = (ind2-ind2.min())/(ind2.max()-ind2.min())\n",
    "ind3 = (ind3-ind3.min())/(ind3.max()-ind3.min())\n",
    "# mean normalization\n",
    "\n",
    "ind1.plot(label='temp_spread')\n",
    "ind2.plot(label='dod/h')\n",
    "ind3.plot(label='charge+discharge_energy')\n",
    "dsoh.plot(label='dSOH')\n",
    "plt.legend()\n",
    "plt.title('Normalized Comparison of indicators to change in health')"
   ]
  },
  {
   "cell_type": "markdown",
   "metadata": {},
   "source": [
    "## Collect aggregated datapoints for all ids"
   ]
  },
  {
   "cell_type": "code",
   "execution_count": null,
   "metadata": {},
   "outputs": [],
   "source": [
    "cd = soh.diff(periods=2).dropna()/2\n",
    "df = pd.DataFrame()\n",
    "df[\"soh\"] = soh\n",
    "df[\"dsoh\"] = cd.reset_index()[\"FCC_POINTS\"]\n",
    "for i in cd.index:\n",
    "    # month range of FCC point\n",
    "    date = time_start + relativedelta(months=i-1)\n",
    "    start = f\"{date.year}-{date.month}-01\"\n",
    "    end = pd.to_datetime(f\"{date.year}-{date.month}-01\")+relativedelta(months=1)\n",
    "    end = f\"{end.year}-{end.month}-01\"\n",
    "    data = ts_data[(ts_data.index>=start) & (ts_data.index<end)]\n",
    "    rf = rainflow[(rainflow[\"time_start\"]>=start)&(rainflow[\"time_end\"]<end)]\n",
    "    # indicators\n",
    "    temperature.append(data[\"temperature2\"].mean())\n",
    "    voltage.append(data[\"voltage\"].mean())\n",
    "    current.append(data[\"current\"].abs().max())\n",
    "    ind1.append(data[\"temperature2\"].max()-data[\"temperature2\"].min())\n",
    "    ind2.append((rf[\"dod\"]/rf[\"duration_h\"]).sum())\n",
    "    ind3.append(data[\"discharge_energy\"].max()-data[\"discharge_energy\"].min()+data[\"charge_energy\"].max()-data[\"charge_energy\"].min())\n",
    "\n",
    "ind1 = pd.Series(ind1)\n",
    "ind2 = pd.Series(ind2)\n",
    "ind3 = pd.Series(ind3)\n",
    "# min-max normalization\n",
    "dsoh = (dsoh-dsoh.min())/(dsoh.max()-dsoh.min())\n",
    "ind1 = (ind1-ind1.min())/(ind1.max()-ind1.min())\n",
    "ind2 = (ind2-ind2.min())/(ind2.max()-ind2.min())\n",
    "ind3 = (ind3-ind3.min())/(ind3.max()-ind3.min())\n",
    "# mean normalization\n",
    "\n",
    "ind1.plot(label='temp_spread')\n",
    "ind2.plot(label='dod/h')\n",
    "ind3.plot(label='charge+discharge_energy')\n",
    "dsoh.plot(label='dSOH')\n",
    "plt.legend()\n",
    "plt.title('Normalized Comparison of indicators to change in health')"
   ]
  },
  {
   "cell_type": "markdown",
   "metadata": {},
   "source": [
    "## Internal Resistance"
   ]
  },
  {
   "cell_type": "code",
   "execution_count": null,
   "metadata": {},
   "outputs": [],
   "source": [
    "import numpy as np\n",
    "import pandas as pd\n",
    "import matplotlib.pyplot as plt\n",
    "from scipy.interpolate import griddata\n",
    "\n",
    "from accure_io import S3Interface\n",
    "from accure_analytics.pipelines.internal_resistance.common import get_and_preprocess_timeseries, calc_df_for_cell_level\n",
    "from accure_analytics.pipelines.utils.config_files.interface import get_task_config\n",
    "\n",
    "from accure_analytics.internal_resistance.ri_soh_r import (\n",
    "    calculate_ir_via_ohmic_law,\n",
    "    calculate_ri_soh,\n",
    "    describe_ri_soh,\n",
    "    calculate_weekly_soh,\n",
    ")\n",
    "\n",
    "from accure_analytics.internal_resistance.lookup_table import (\n",
    "    set_up_grid,\n",
    "    read_ri_look_up_table,\n",
    "    generate_all_systems_lookup,\n",
    "    plot_ri_lookup_scatter,\n",
    "    plot_ri_lookup_surface,\n",
    ")\n",
    "\n",
    "# for local regression:\n",
    "from accure_analytics.utils.localreg import localreg \n",
    "from accure_analytics.utils.kernels import triweight\n",
    "\n",
    "%load_ext autoreload\n",
    "%autoreload 2"
   ]
  },
  {
   "cell_type": "code",
   "execution_count": null,
   "metadata": {},
   "outputs": [],
   "source": [
    "customer = \"senec\"\n",
    "project = \"home-storage\"\n",
    "product = \"internal_resistance\"\n",
    "level = \"pack\"\n",
    "# device = \"dcb102zk\"\n",
    "serial_con = 13  # for this device only\n",
    "parallel_con = 1\n",
    "accure_id = id  # this accure_id belongs to the type of device, and level etc. specified"
   ]
  },
  {
   "cell_type": "code",
   "execution_count": null,
   "metadata": {},
   "outputs": [],
   "source": [
    "data_context = S3Interface.get_latest_data_context(customer = customer)\n",
    "s3_interface = S3Interface(data_context)\n",
    "df = get_and_preprocess_timeseries(s3_interface, level, accure_id)"
   ]
  },
  {
   "cell_type": "code",
   "execution_count": null,
   "metadata": {},
   "outputs": [],
   "source": [
    "task_config = get_task_config(\n",
    "    customer=customer, project=project, product=product, level=level\n",
    ")\n",
    "\n",
    "meta_obj = s3_interface.get_meta_s3(level=level, accure_id=accure_id)\n",
    "\n",
    "df_cell = calc_df_for_cell_level(\n",
    "    df=df,\n",
    "    meta_obj=meta_obj,\n",
    "    connection_meta_key=task_config[\"connection_meta_key\"],\n",
    "    serial_con=serial_con,\n",
    "    parallel_con=parallel_con,\n",
    ")\n",
    "df_cell"
   ]
  },
  {
   "cell_type": "code",
   "execution_count": null,
   "metadata": {},
   "outputs": [],
   "source": [
    "internal_resistance, _ = calculate_ir_via_ohmic_law(\n",
    "    df_cell,\n",
    "    current_diff_threshold_c=0.1,\n",
    ")\n"
   ]
  }
 ],
 "metadata": {
  "kernelspec": {
   "display_name": "Python 3.9.12 ('analytics_complete')",
   "language": "python",
   "name": "python3"
  },
  "language_info": {
   "codemirror_mode": {
    "name": "ipython",
    "version": 3
   },
   "file_extension": ".py",
   "mimetype": "text/x-python",
   "name": "python",
   "nbconvert_exporter": "python",
   "pygments_lexer": "ipython3",
   "version": "3.9.12 | packaged by conda-forge | (main, Mar 24 2022, 23:23:20) \n[Clang 12.0.1 ]"
  },
  "orig_nbformat": 4,
  "vscode": {
   "interpreter": {
    "hash": "eb4ce2ed95dd9a98ac3d29aa9c0af06fb8c0d144f0d8153cc9bd7707e3f0024d"
   }
  }
 },
 "nbformat": 4,
 "nbformat_minor": 2
}
