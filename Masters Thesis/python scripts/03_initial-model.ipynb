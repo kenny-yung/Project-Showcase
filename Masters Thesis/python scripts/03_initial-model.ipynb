{
 "cells": [
  {
   "cell_type": "markdown",
   "metadata": {},
   "source": [
    "## Collect aggregated datapoints for all ids"
   ]
  },
  {
   "cell_type": "code",
   "execution_count": null,
   "metadata": {},
   "outputs": [],
   "source": [
    "import warnings\n",
    "import math\n",
    "from time import time\n",
    "import pandas as pd\n",
    "import numpy as np\n",
    "import matplotlib.pyplot as plt\n",
    "import datetime\n",
    "from dateutil.relativedelta import relativedelta\n",
    "\n",
    "from accure_io import PostgresInterface, S3Interface, SnowflakeInterface\n",
    "from accure_io.s3_battery_data_reader import DataNotFoundError, S3BatteryDataReader\n",
    "from accure_io._meta_data import MetaData\n",
    "import accure_plot\n",
    "from accure_io.s3 import list_bucket\n",
    "\n",
    "from accure_analytics.gaps.find_gaps import find_gaps\n",
    "from accure_analytics.cycle_counting.rainflow import calculate_rainflow"
   ]
  },
  {
   "cell_type": "code",
   "execution_count": null,
   "metadata": {},
   "outputs": [],
   "source": [
    "warnings.filterwarnings(\"ignore\")\n",
    "plt.rcParams[\"figure.figsize\"] = (15,6)\n",
    "import sys\n",
    "\n",
    "from accure_analytics import data_version\n",
    "sys.setrecursionlimit(10000)\n",
    "\n",
    "level = \"pack\"\n",
    "customer = \"senec\"\n",
    "pi = PostgresInterface()\n",
    "dc = S3Interface.get_latest_data_context(customer=customer)\n",
    "s3i = S3Interface(dc)\n",
    "\n",
    "battery_reader = S3BatteryDataReader(tenant=customer, data_version=\"latest\")\n",
    "sfi = SnowflakeInterface(customer=customer)\n",
    "\n",
    "health_path = \"s3://accure-production-artifacts/senec/product=reivolution/data_version=2/run_context=submit-20221004/artifact_type=result/group=FCC_monthly/\"\n",
    "data_version = \"2\"\n",
    "version = \"221018\"\n",
    "ids = pd.read_parquet(f\"s3://accure-sandbox-data/kyung/{customer}/id-list/aging_accure_ids_{version}.parquet\")"
   ]
  },
  {
   "cell_type": "markdown",
   "metadata": {},
   "source": [
    "### Test set"
   ]
  },
  {
   "cell_type": "code",
   "execution_count": null,
   "metadata": {},
   "outputs": [],
   "source": [
    "save_path = f\"s3://accure-sandbox-data/kyung/{customer}/model-data/version=1/test-set/\"\n",
    "files = pd.read_parquet(f\"s3://accure-sandbox-data/kyung/{customer}/s3_id_list.parquet\")\n",
    "accure_ids = files[\"filename\"]\n",
    "test_ids = []\n",
    "required_ids = 200\n",
    "for index, accure_id in enumerate(accure_ids):\n",
    "    id = accure_id[accure_id.index('=')+1:accure_id.index('.')]\n",
    "    try:\n",
    "        meta = battery_reader.read_meta_data(level=level, accure_id=id)\n",
    "    except DataNotFoundError:\n",
    "        continue\n",
    "    days_in_operation = (meta.last_timestamp - meta.first_timestamp).days\n",
    "    if days_in_operation < 365*2:\n",
    "        continue\n",
    "    test_ids.append(id)\n",
    "    print(index,f\"Found {len(test_ids)} of {required_ids}\")\n",
    "    if len(test_ids) == required_ids:\n",
    "        break\n",
    "\n"
   ]
  },
  {
   "cell_type": "code",
   "execution_count": null,
   "metadata": {},
   "outputs": [],
   "source": [
    "pd.DataFrame({'accure_id':test_ids}).to_parquet(f\"s3://accure-sandbox-data/kyung/{customer}/test_id_list_200.parquet\")\n",
    "\n",
    "for index,id in enumerate(test_ids):\n",
    "    df = pd.DataFrame()\n",
    "    meta = battery_reader.read_meta_data(level=level, accure_id=id)\n",
    "    time_start = meta.first_timestamp\n",
    "    time_end = meta.last_timestamp\n",
    "    ts_data = s3i.get_timeseries_s3(level=level, accure_id=id, time_start=time_start, time_end=time_end)\n",
    "    ts_data = ts_data[~ts_data.index.duplicated()]\n",
    "    invalid = ts_data[\"voltage\"].isna() | ts_data[\"voltage\"]==0 | ts_data[\"current\"].isna()\n",
    "    ts_data = ts_data[~invalid]\n",
    "    nom_cap = meta.configurations.iloc[-1][\"customer_datasheet\"]['agg_capacity_design']\n",
    "    fcc_df = pd.read_parquet(f'{health_path}FCC_accure_id={id}.parquet')\n",
    "    soh = fcc_df['FCC_POINTS']/nom_cap\n",
    "    temperature = ts_data['temperature2']\n",
    "    soc = ts_data['state_of_charge']\n",
    "    voltage = ts_data['voltage']\n",
    "    current = ts_data['current'] # positive = charge\n",
    "    # rainflow\n",
    "    measurement_gaps = find_gaps(time_index=current.index)\n",
    "    rainflow = calculate_rainflow(soc=soc,current=current,gaps=measurement_gaps, idle_current_threshold_a=0)\n",
    "    rainflow.to_parquet(f\"s3://accure-sandbox-data/kyung/{customer}/rainflow/id={id}.parquet\")\n",
    "    # rainflow = pd.read_parquet(f\"s3://accure-sandbox-data/kyung/{customer}/rainflow/id={id}.parquet\")\n",
    "    cd = (soh.diff(periods=2).dropna()/2)\n",
    "    df[\"dsoh\"] = cd.to_list()\n",
    "    df[\"age\"] = cd.index\n",
    "    df[\"soh\"] = soh[1:-1].to_list()\n",
    "    for i in cd.index:\n",
    "        # month range of FCC point\n",
    "        date = time_start + relativedelta(months=i-1)\n",
    "        start = f\"{date.year}-{date.month}-01\"\n",
    "        end = pd.to_datetime(f\"{date.year}-{date.month}-01\")+relativedelta(months=1)\n",
    "        end = f\"{end.year}-{end.month}-01\"\n",
    "        data = ts_data[(ts_data.index>=start) & (ts_data.index<end)]\n",
    "        rf = rainflow[(rainflow[\"time_start\"]>=start)&(rainflow[\"time_end\"]<end)]\n",
    "        df.loc[df[\"age\"]==i,\"month\"] = date.month\n",
    "        # indicators\n",
    "        df.loc[df[\"age\"]==i,\"temp_median\"] = data[\"temperature2\"].median()\n",
    "        df.loc[df[\"age\"]==i,\"volt_median\"] = (data[\"voltage\"].median())\n",
    "        df.loc[df[\"age\"]==i,\"curr_median\"] = (data[\"current\"].median())\n",
    "        df.loc[df[\"age\"]==i,\"temp_spread\"] = (data[\"temperature2\"].max()-data[\"temperature2\"].min())\n",
    "        df.loc[df[\"age\"]==i,\"dod\"] = (rf[\"dod\"].sum())\n",
    "        df.loc[df[\"age\"]==i,\"dod/h\"] = ((rf[\"dod\"]/rf[\"duration_h\"]).sum())\n",
    "        df.loc[df[\"age\"]==i,\"energy_total\"] = (data[\"discharge_energy\"].max()-data[\"discharge_energy\"].min()+data[\"charge_energy\"].max()-data[\"charge_energy\"].min())\n",
    "    df[\"accure_id\"] = id\n",
    "    df.to_parquet(f\"{save_path}id={id}.parquet\")\n",
    "    print(f\"{index} Processed and saved id: {id}\")\n"
   ]
  },
  {
   "cell_type": "markdown",
   "metadata": {},
   "source": [
    "### Training set"
   ]
  },
  {
   "cell_type": "code",
   "execution_count": null,
   "metadata": {},
   "outputs": [],
   "source": [
    "save_path = f\"s3://accure-sandbox-data/kyung/{customer}/model-data/version=1/training-set/\"\n",
    "for index,id in enumerate(ids[\"accure_id\"]):\n",
    "    df = pd.DataFrame()\n",
    "    meta = battery_reader.read_meta_data(level=level, accure_id=id)\n",
    "    time_start = meta.first_timestamp\n",
    "    time_end = meta.last_timestamp\n",
    "    ts_data = s3i.get_timeseries_s3(level=level, accure_id=id, time_start=time_start, time_end=time_end)\n",
    "    ts_data = ts_data[~ts_data.index.duplicated()]\n",
    "    invalid = ts_data[\"voltage\"].isna() | ts_data[\"voltage\"]==0 | ts_data[\"current\"].isna()\n",
    "    ts_data = ts_data[~invalid]\n",
    "    nom_cap = meta.configurations.iloc[-1][\"customer_datasheet\"]['agg_capacity_design']\n",
    "    fcc_df = pd.read_parquet(f'{health_path}FCC_accure_id={id}.parquet')\n",
    "    soh = fcc_df['FCC_POINTS']/nom_cap\n",
    "    temperature = ts_data['temperature2']\n",
    "    soc = ts_data['state_of_charge']\n",
    "    voltage = ts_data['voltage']\n",
    "    current = ts_data['current'] # positive = charge\n",
    "    # rainflow\n",
    "    try:\n",
    "        rainflow = pd.read_parquet(f\"s3://accure-sandbox-data/kyung/{customer}/rainflow/id={id}.parquet\")\n",
    "    except FileNotFoundError:\n",
    "        measurement_gaps = find_gaps(time_index=current.index)\n",
    "        rainflow = calculate_rainflow(soc=soc,current=current,gaps=measurement_gaps, idle_current_threshold_a=0)\n",
    "        rainflow.to_parquet(f\"s3://accure-sandbox-data/kyung/{customer}/rainflow/id={id}.parquet\")\n",
    "    cd = (soh.diff(periods=2).dropna()/2)\n",
    "    df[\"dsoh\"] = cd.to_list()\n",
    "    df[\"age\"] = cd.index\n",
    "    df[\"soh\"] = soh[1:-1].to_list() # don't include in model\n",
    "    for i in cd.index:\n",
    "        # month range of FCC point\n",
    "        date = time_start + relativedelta(months=i-1)\n",
    "        start = f\"{date.year}-{date.month}-01\"\n",
    "        end = pd.to_datetime(f\"{date.year}-{date.month}-01\")+relativedelta(months=1)\n",
    "        end = f\"{end.year}-{end.month}-01\"\n",
    "        data = ts_data[(ts_data.index>=start) & (ts_data.index<end)]\n",
    "        rf = rainflow[(rainflow[\"time_start\"]>=start)&(rainflow[\"time_end\"]<end)]\n",
    "        df.loc[df[\"age\"]==i,\"month\"] = date.month\n",
    "        # indicators\n",
    "        df.loc[df[\"age\"]==i,\"temp_median\"] = data[\"temperature2\"].median() # upper,lower quantile, mean\n",
    "        df.loc[df[\"age\"]==i,\"temp_spread\"] = (data[\"temperature2\"].max()-data[\"temperature2\"].min())\n",
    "        df.loc[df[\"age\"]==i,\"volt_median\"] = (data[\"voltage\"].median())\n",
    "        df.loc[df[\"age\"]==i,\"curr_median\"] = (data[\"current\"].median())\n",
    "        df.loc[df[\"age\"]==i,\"dod\"] = (rf[\"dod\"].sum())\n",
    "        df.loc[df[\"age\"]==i,\"dod/h\"] = ((rf[\"dod\"]/rf[\"duration_h\"]).sum())\n",
    "        df.loc[df[\"age\"]==i,\"energy_total\"] = (data[\"discharge_energy\"].max()-data[\"discharge_energy\"].min()+data[\"charge_energy\"].max()-data[\"charge_energy\"].min())\n",
    "    df[\"accure_id\"] = id\n",
    "    df.to_parquet(f\"{save_path}id={id}.parquet\")\n",
    "    print(f\"{index} Processed and saved id: {id}\")\n"
   ]
  },
  {
   "cell_type": "markdown",
   "metadata": {},
   "source": [
    "## Statistical plots"
   ]
  },
  {
   "cell_type": "code",
   "execution_count": null,
   "metadata": {},
   "outputs": [],
   "source": [
    "# processed combine data\n",
    "path = f\"s3://accure-sandbox-data/kyung/{customer}/model-data/version={data_version}/training-set/\"\n",
    "files = list_bucket(path)\n",
    "df = pd.DataFrame()\n",
    "for file in files[\"filename\"]:\n",
    "    if (file.endswith(\".parquet\")):\n",
    "        df = pd.concat([df,pd.read_parquet(f\"{path}{file}\")],ignore_index=True)\n",
    "df.dropna(inplace=True)\n",
    "\n",
    "path = f\"s3://accure-sandbox-data/kyung/{customer}/model-data/version={data_version}/test-set/\"\n",
    "files = list_bucket(path)\n",
    "df_test = pd.DataFrame()\n",
    "for file in files[\"filename\"]:\n",
    "    if (file.endswith(\".parquet\")):\n",
    "        df_test = pd.concat([df_test,pd.read_parquet(f\"{path}{file}\")],ignore_index=True)\n",
    "df_test"
   ]
  },
  {
   "cell_type": "code",
   "execution_count": null,
   "metadata": {},
   "outputs": [],
   "source": [
    "target = df[\"dsoh\"]\n",
    "features = df.drop([\"accure_id\",\"dsoh\",\"soh\"],axis=1)\n",
    "target"
   ]
  },
  {
   "cell_type": "code",
   "execution_count": null,
   "metadata": {},
   "outputs": [],
   "source": [
    "target.plot(kind='box')\n",
    "features.boxplot(by='month',column=['temp_mean'])\n",
    "features.boxplot(by='month',column=['temp_spread'])\n",
    "df.boxplot(by='month',column=['dsoh'])\n",
    "df.boxplot(by='age',column=['dsoh'])"
   ]
  },
  {
   "cell_type": "code",
   "execution_count": null,
   "metadata": {},
   "outputs": [],
   "source": [
    "print(features.columns)\n",
    "df.plot.scatter(y='dsoh',x='temp_mean')\n",
    "df.plot.scatter(y='dsoh',x='temp_95th')\n",
    "df.plot.scatter(y='dsoh',x='temp_5th')\n",
    "df.plot.scatter(y='dsoh',x='temp_spread')\n",
    "df.plot.scatter(y='dsoh',x='volt_mean')\n",
    "df.plot.scatter(y='dsoh',x='volt_95th')\n",
    "df.plot.scatter(y='dsoh',x='volt_5th')\n",
    "df.plot.scatter(y='dsoh',x='curr_mean')\n",
    "df.plot.scatter(y='dsoh',x='curr_95th')\n",
    "df.plot.scatter(y='dsoh',x='curr_5th')\n",
    "df.plot.scatter(y='dsoh',x='power')\n",
    "df.plot.scatter(y='dsoh',x='dod')\n",
    "df.plot.scatter(y='dsoh',x='dod/h')\n",
    "df.plot.scatter(y='dsoh',x='energy_total')"
   ]
  },
  {
   "cell_type": "markdown",
   "metadata": {},
   "source": [
    "## Linear Regression"
   ]
  },
  {
   "cell_type": "code",
   "execution_count": null,
   "metadata": {},
   "outputs": [],
   "source": [
    "import seaborn as sns\n",
    "from sklearn.model_selection import train_test_split\n",
    "from sklearn.linear_model import LinearRegression\n",
    "from sklearn.metrics import mean_squared_error, mean_absolute_error\n",
    "import sklearn.metrics as metrics\n",
    "from sklearn import preprocessing\n",
    "from accure_analytics.utils.error_metrics import mean_squared_error as rms"
   ]
  },
  {
   "cell_type": "code",
   "execution_count": null,
   "metadata": {},
   "outputs": [],
   "source": [
    "path = f\"s3://accure-sandbox-data/kyung/{customer}/model-data/training-set/\"\n",
    "df = pd.read_parquet(path,engine='fastparquet')\n",
    "\n",
    "path = f\"s3://accure-sandbox-data/kyung/{customer}/model-data/test-set/\"\n",
    "files = list_bucket(path)\n",
    "df_test = pd.DataFrame()\n",
    "for file in files[\"filename\"]:\n",
    "    if (file.endswith(\".parquet\")):\n",
    "        df_test = pd.concat([df_test,pd.read_parquet(f\"{path}{file}\")],ignore_index=True)\n",
    "\n",
    "df_test.dropna(inplace=True)\n",
    "df.dropna(inplace=True)"
   ]
  },
  {
   "cell_type": "markdown",
   "metadata": {},
   "source": [
    "### Split by id on 'good data'"
   ]
  },
  {
   "cell_type": "code",
   "execution_count": null,
   "metadata": {},
   "outputs": [],
   "source": [
    "n_test = 10\n",
    "test = df[df[\"accure_id\"].isin(df[\"accure_id\"].unique()[0:n_test])]\n",
    "train = df[~df[\"accure_id\"].isin(df[\"accure_id\"].unique()[0:n_test])]\n",
    "y_train = train[\"dsoh\"]\n",
    "x_train = train.drop([\"accure_id\",\"dsoh\",\"soh\"],axis=1)\n",
    "x_test = test.drop([\"accure_id\",\"dsoh\",\"soh\"],axis=1)\n",
    "y_test = test[\"dsoh\"]\n",
    "reg = LinearRegression(normalize=True)\n",
    "reg.fit(x_train,y_train)\n",
    "pred = reg.predict(x_test)\n",
    "print(\"Mean absolute error: %.6f %%\" % (metrics.mean_absolute_error(y_test, pred)*100))\n",
    "print(\"R2 score: %.4f\" % metrics.r2_score(y_test, pred))\n",
    "print(\"RMSE: \",math.sqrt(metrics.mean_squared_error(y_test, pred))*100,\"%\")\n",
    "for i,v in enumerate(reg.coef_):\n",
    "    print(\"Feature: \",x_test.columns[i],\"=\",v/x_test.mean()[i])\n",
    "plt.bar(x_test.columns,reg.coef_/x_test.mean())"
   ]
  },
  {
   "cell_type": "code",
   "execution_count": null,
   "metadata": {},
   "outputs": [],
   "source": [
    "from accure_analytics.utils.error_metrics import mean_squared_error as rms\n",
    "result = pd.DataFrame(columns=['accure_id','RMSE_target','RMSE_soh'])\n",
    "plt.figure(figsize=(10,30))\n",
    "for index,id in enumerate(test['accure_id'].unique()):\n",
    "    actual = test[test[\"accure_id\"]==id]['soh'].reset_index(drop=True)\n",
    "    soh_start = actual.iloc[0]\n",
    "    x = test.loc[test[\"accure_id\"]==id].drop([\"accure_id\",\"dsoh\"],axis=1)\n",
    "    y = reg.predict(x)\n",
    "    pred_soh = [soh_start]\n",
    "    for i in range(1,len(actual)):\n",
    "        pred_soh.append(pred_soh[i-1]+y[i])\n",
    "    rmse_d = rms(test[test[\"accure_id\"]==id]['dsoh'],y)*100\n",
    "    rmse_s = rms(actual,pred_soh)*100\n",
    "    result = result.append({\"accure_id\":id,\"RMSE_target\":rmse_d,\"RMSE_soh\":rmse_s},ignore_index=True)\n",
    "    # print('RMSE_d = %.2f %%, RMSE_s = %.2f %%' % (rmse_d,rmse_s))\n",
    "    plt.subplot(n_test,1,index+1)\n",
    "    plt.plot(np.array(pred_soh)*100,label='prediction')\n",
    "    plt.plot(actual*100,label='actual')\n",
    "    plt.ylabel(\"SOH\")\n",
    "    plt.xlabel(\"Age (Month)\")\n",
    "    plt.legend()\n",
    "display(result)\n",
    "result.mean()"
   ]
  },
  {
   "cell_type": "markdown",
   "metadata": {},
   "source": [
    "### Randomized train/test set in 50 'good data'"
   ]
  },
  {
   "cell_type": "code",
   "execution_count": null,
   "metadata": {},
   "outputs": [],
   "source": [
    "X = df.drop([\"accure_id\",\"dsoh\"],axis=1)\n",
    "y = df[\"dsoh\"]\n",
    "X_train, X_test, y_train, y_test = train_test_split(\n",
    "    X, y, test_size=0.3, random_state=12)\n",
    "model = LinearRegression()\n",
    "model.fit(X_train,y_train)\n",
    "predictions = model.predict(X_test)\n",
    "# model evaluation\n",
    "print('Mean Squared Error : ', metrics.mean_squared_error(y_test, predictions))\n",
    "print('Mean Absolute Error : ', metrics.mean_absolute_error(y_test, predictions))\n",
    "print(\"R2 score: %.4f\" % metrics.r2_score(y_test, predictions))\n",
    "print(\"RMSE: %.6f %%\" % (np.sqrt(mean_squared_error(y_test, predictions))*100))"
   ]
  },
  {
   "cell_type": "markdown",
   "metadata": {},
   "source": [
    "### Train: 50 'good data', Test: 200 'normal data'"
   ]
  },
  {
   "cell_type": "code",
   "execution_count": null,
   "metadata": {},
   "outputs": [],
   "source": [
    "test = df_test.dropna()\n",
    "train = df\n",
    "y_train = train[\"dsoh\"]\n",
    "x_train = train.drop([\"accure_id\",\"dsoh\"],axis=1)\n",
    "x_test = test.drop([\"accure_id\",\"dsoh\"],axis=1)\n",
    "y_test = test[\"dsoh\"]\n",
    "model = LinearRegression()\n",
    "model.fit(x_train,y_train)\n",
    "pred = model.predict(x_test)\n",
    "# print(\"R2 score: %.4f\" % metrics.r2_score(y_train, pred))\n",
    "print(\"R2 score: %.4f\" % metrics.r2_score(y_test, pred))\n",
    "print(\"RMSE: \",rms(y_test, pred)*100,'%')\n",
    "# print(\"RMSE: \",rms(y_train, pred)*100,'%')"
   ]
  },
  {
   "cell_type": "code",
   "execution_count": null,
   "metadata": {},
   "outputs": [],
   "source": [
    "result = pd.DataFrame(columns=[\"accure_id\",\"RMSE_target\",\"RMSE_soh\"])\n",
    "for id in test['accure_id'].unique():\n",
    "    actual = test[test[\"accure_id\"]==id]['soh'].reset_index(drop=True)\n",
    "    soh_start = actual.iloc[0]\n",
    "    x = test.loc[test[\"accure_id\"]==id].drop([\"accure_id\",\"dsoh\"],axis=1)\n",
    "    y = model.predict(x)\n",
    "    pred_soh = [soh_start]\n",
    "    for i in range(1,len(actual)):\n",
    "        pred_soh.append(pred_soh[i-1]+y[i])\n",
    "    rmse_d = rms(test[test[\"accure_id\"]==id]['dsoh'],y)*100\n",
    "    rmse_s = rms(actual,pred_soh)*100\n",
    "    result = result.append({\"accure_id\":id,\"RMSE_target\":rmse_d,\"RMSE_soh\":rmse_s},ignore_index=True)\n",
    "    # print('RMSE_d = %.2f %%, RMSE_s = %.2f %%' % (rmse_d,rmse_s))\n",
    "display(result)\n",
    "result.mean()"
   ]
  },
  {
   "cell_type": "code",
   "execution_count": null,
   "metadata": {},
   "outputs": [],
   "source": [
    "n_test = 10\n",
    "result = pd.DataFrame(columns=['accure_id','RMSE_target','RMSE_soh'])\n",
    "plt.figure(figsize=(10,30))\n",
    "for index,id in enumerate(test['accure_id'].unique()[0:2*n_test:2]):\n",
    "    actual = test[test[\"accure_id\"]==id]['soh'].reset_index(drop=True)\n",
    "    soh_start = actual.iloc[0]\n",
    "    x = test.loc[test[\"accure_id\"]==id].drop([\"accure_id\",\"dsoh\"],axis=1)\n",
    "    y = model.predict(x)\n",
    "    pred_soh = [soh_start]\n",
    "    for i in range(1,len(actual)):\n",
    "        pred_soh.append(pred_soh[i-1]+y[i])\n",
    "    rmse_d = rms(test[test[\"accure_id\"]==id]['dsoh'],y)*100\n",
    "    rmse_s = rms(actual,pred_soh)*100\n",
    "    result = result.append({\"accure_id\":id,\"RMSE_target\":rmse_d,\"RMSE_soh\":rmse_s},ignore_index=True)\n",
    "    meta = battery_reader.read_meta_data(level=level, accure_id=id)\n",
    "    nom_cap = meta.configurations.iloc[-1][\"customer_datasheet\"]['agg_capacity_design']\n",
    "    plt.subplot(n_test,1,index+1)\n",
    "    plt.plot(np.array(pred_soh)*nom_cap,label='prediction')\n",
    "    plt.plot(actual*nom_cap,label='actual')\n",
    "    plt.ylabel(\"Capacity Forecast\")\n",
    "    plt.xlabel(\"Age (Month)\")\n",
    "    plt.legend()\n",
    "display(result)\n",
    "result.mean()"
   ]
  },
  {
   "cell_type": "markdown",
   "metadata": {},
   "source": [
    "### Train 200 'bad' data"
   ]
  },
  {
   "cell_type": "code",
   "execution_count": null,
   "metadata": {},
   "outputs": [],
   "source": [
    "test = df_test.dropna()\n",
    "train = df_test\n",
    "y_train = train[\"dsoh\"]\n",
    "x_train = train.drop([\"accure_id\",\"dsoh\"],axis=1)\n",
    "x_test = test.drop([\"accure_id\",\"dsoh\"],axis=1)\n",
    "y_test = test[\"dsoh\"]\n",
    "model = LinearRegression()\n",
    "model.fit(x_train,y_train)\n",
    "pred = model.predict(x_test)\n",
    "print(\"R2 score: %.4f\" % metrics.r2_score(y_test, pred))\n",
    "print(\"RMSE: \",rms(y_test, pred)*100,'%')\n",
    "result = pd.DataFrame(columns=[\"accure_id\",\"RMSE_target\",\"RMSE_soh\"])\n",
    "for id in test['accure_id'].unique():\n",
    "    actual = test[test[\"accure_id\"]==id]['soh'].reset_index(drop=True)\n",
    "    soh_start = actual.iloc[0]\n",
    "    x = test.loc[test[\"accure_id\"]==id].drop([\"accure_id\",\"dsoh\"],axis=1)\n",
    "    y = model.predict(x)\n",
    "    pred_soh = [soh_start]\n",
    "    for i in range(1,len(actual)):\n",
    "        pred_soh.append(pred_soh[i-1]+y[i])\n",
    "    rmse_d = rms(test[test[\"accure_id\"]==id]['dsoh'],y)*100\n",
    "    rmse_s = rms(actual,pred_soh)*100\n",
    "    result = result.append({\"accure_id\":id,\"RMSE_target\":rmse_d,\"RMSE_soh\":rmse_s},ignore_index=True)\n",
    "    # print('RMSE_d = %.2f %%, RMSE_s = %.2f %%' % (rmse_d,rmse_s))\n",
    "display(result)\n",
    "result.mean()"
   ]
  },
  {
   "cell_type": "code",
   "execution_count": null,
   "metadata": {},
   "outputs": [],
   "source": [
    "n_test = 15\n",
    "result = pd.DataFrame(columns=['accure_id','RMSE_target','RMSE_soh'])\n",
    "plt.figure(figsize=(10,50))\n",
    "for index,id in enumerate(test['accure_id'].unique()[0:n_test*2:2]):\n",
    "    actual = test[test[\"accure_id\"]==id]['soh'].reset_index(drop=True)\n",
    "    soh_start = actual.iloc[0]\n",
    "    x = test.loc[test[\"accure_id\"]==id].drop([\"accure_id\",\"dsoh\"],axis=1)\n",
    "    y = model.predict(x)\n",
    "    pred_soh = [soh_start]\n",
    "    for i in range(1,len(actual)):\n",
    "        pred_soh.append(pred_soh[i-1]+y[i])\n",
    "    rmse_d = rms(test[test[\"accure_id\"]==id]['dsoh'],y)*100\n",
    "    rmse_s = rms(actual,pred_soh)*100\n",
    "    result = result.append({\"accure_id\":id,\"RMSE_target\":rmse_d,\"RMSE_soh\":rmse_s},ignore_index=True)\n",
    "    # print('RMSE_d = %.2f %%, RMSE_s = %.2f %%' % (rmse_d,rmse_s))\n",
    "    plt.subplot(n_test,1,index+1)\n",
    "    plt.plot(np.array(pred_soh)*100,label='prediction')\n",
    "    plt.plot(actual*100,label='actual')\n",
    "    plt.title(\"RMS_soh = %.2f\" %rmse_s)\n",
    "    plt.legend()"
   ]
  },
  {
   "cell_type": "code",
   "execution_count": null,
   "metadata": {},
   "outputs": [],
   "source": []
  }
 ],
 "metadata": {
  "kernelspec": {
   "display_name": "Python 3.9.12 ('analytics_complete')",
   "language": "python",
   "name": "python3"
  },
  "language_info": {
   "codemirror_mode": {
    "name": "ipython",
    "version": 3
   },
   "file_extension": ".py",
   "mimetype": "text/x-python",
   "name": "python",
   "nbconvert_exporter": "python",
   "pygments_lexer": "ipython3",
   "version": "3.9.12"
  },
  "orig_nbformat": 4,
  "vscode": {
   "interpreter": {
    "hash": "eb4ce2ed95dd9a98ac3d29aa9c0af06fb8c0d144f0d8153cc9bd7707e3f0024d"
   }
  }
 },
 "nbformat": 4,
 "nbformat_minor": 2
}
